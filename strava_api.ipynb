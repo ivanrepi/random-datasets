{
 "cells": [
  {
   "cell_type": "code",
   "execution_count": 1,
   "source": [
    "import requests\n",
    "import urllib3"
   ],
   "outputs": [],
   "metadata": {}
  },
  {
   "cell_type": "code",
   "execution_count": 51,
   "source": [
    "urllib3.disable_warnings(urllib3.exceptions.InsecureRequestWarning)\n",
    "\n",
    "auth_url = \"https://www.strava.com/oauth/token\"\n",
    "activites_url = \"https://www.strava.com/api/v3/athlete/activities\"\n",
    "\n",
    "payload = {\n",
    "    'client_id': \"75483\t\",\n",
    "    'client_secret': 'd7d1e5483201559ddf62c677ac12f6cf7847c5ae',\n",
    "    'refresh_token': 'd628119cd344b1eae77352fac32d813c662c24e6',\n",
    "    'grant_type': \"refresh_token\",\n",
    "    'f': 'json',\n",
    "}\n",
    "\n",
    "\n",
    "print(\"Requesting Token...\\n\")\n",
    "res = requests.post(auth_url, data=payload, verify=False)\n",
    "print(res)\n",
    "access_token = res.json()['access_token']\n",
    "print(\"Access Token = {}\\n\".format(access_token))\n",
    "\n",
    "header = {'Authorization': 'Bearer ' + access_token}\n",
    "param = {'per_page': 200, 'page': 1 }\n",
    "my_dataset = requests.get(activites_url, headers=header, params=param).json()\n",
    "my_dataset\n",
    "#print(my_dataset[0][\"name\"])\n",
    "#print(my_dataset[0][\"map\"][\"summary_polyline\"])"
   ],
   "outputs": [
    {
     "output_type": "stream",
     "name": "stdout",
     "text": [
      "Requesting Token...\n",
      "\n",
      "<Response [200]>\n",
      "Access Token = 439ccc5e2f6ad2302c1977474cc870d4601c69c6\n",
      "\n"
     ]
    },
    {
     "output_type": "execute_result",
     "data": {
      "text/plain": [
       "{'message': 'Authorization Error',\n",
       " 'errors': [{'resource': 'AccessToken',\n",
       "   'field': 'activity:read_permission',\n",
       "   'code': 'missing'}]}"
      ]
     },
     "metadata": {},
     "execution_count": 51
    }
   ],
   "metadata": {}
  },
  {
   "cell_type": "code",
   "execution_count": null,
   "source": [
    "http://www.strava.com/oauth/authorize?client_id=75483&response_type=code&redirect_uri=http://localhost/exchange_token&approval_prompt=force&scope=read_all\n",
    "\n",
    "curl -X POST https://www.strava.com/oauth/token \\\n",
    "\t-F client_id=75483 \\\n",
    "\t-F client_secret=d7d1e5483201559ddf62c677ac12f6cf7847c5ae \\\n",
    "\t-F code=15dfaa077f3c4e90d22c551641f3cbfb185b2577 \\\n",
    "\t-F grant_type=authorization_code"
   ],
   "outputs": [],
   "metadata": {}
  },
  {
   "cell_type": "code",
   "execution_count": 37,
   "source": [
    "files = {\n",
    "    'client_id': '75483',\n",
    "    'client_secret': 'd7d1e5483201559ddf62c677ac12f6cf7847c5ae',\n",
    "    'code': 'a16c9575c0b3679c35cff4c2733250e495b34ffe',\n",
    "    'grant_type': 'authorization_code'\n",
    "}\n",
    "\n",
    "response = requests.post('https://www.strava.com/api/v3/oauth/token', files=files)\n",
    "response\n"
   ],
   "outputs": [
    {
     "output_type": "execute_result",
     "data": {
      "text/plain": [
       "<Response [400]>"
      ]
     },
     "metadata": {},
     "execution_count": 37
    }
   ],
   "metadata": {}
  },
  {
   "cell_type": "code",
   "execution_count": null,
   "source": [],
   "outputs": [],
   "metadata": {}
  },
  {
   "cell_type": "code",
   "execution_count": 67,
   "source": [
    "import time\n",
    "import pickle\n",
    "import pandas as pd\n",
    "import numpy as np\n",
    "\n",
    "import matplotlib\n",
    "import matplotlib.pyplot as plt\n",
    "import seaborn as sns\n",
    "\n",
    "import folium\n",
    "\n",
    "pd.set_option(\"display.max_columns\", 100)\n",
    "\n",
    "from stravalib.client import Client\n",
    "client = Client()\n"
   ],
   "outputs": [],
   "metadata": {}
  },
  {
   "cell_type": "code",
   "execution_count": 75,
   "source": [
    "client_id= \"75483\"\n",
    "client_secret= 'd7d1e5483201559ddf62c677ac12f6cf7847c5ae'\n",
    "refresh_token = 'd628119cd344b1eae77352fac32d813c662c24e6'\n",
    "grant_type= \"refresh_token\"\n",
    "f='json'\n",
    "\n",
    "MY_STRAVA_CLIENT_ID, MY_STRAVA_CLIENT_SECRET = open('client.secret').read().strip().split(',')\n",
    "print ('Client ID and secret read from file'.format(MY_STRAVA_CLIENT_ID) )"
   ],
   "outputs": [
    {
     "output_type": "error",
     "ename": "AttributeError",
     "evalue": "'str' object has no attribute 'secret'",
     "traceback": [
      "\u001b[0;31m---------------------------------------------------------------------------\u001b[0m",
      "\u001b[0;31mAttributeError\u001b[0m                            Traceback (most recent call last)",
      "\u001b[0;32m/var/folders/40/fyg8xwn57w35xfgkjf6frjkr0000gn/T/ipykernel_9125/969266388.py\u001b[0m in \u001b[0;36m<module>\u001b[0;34m\u001b[0m\n\u001b[1;32m      5\u001b[0m \u001b[0mf\u001b[0m\u001b[0;34m=\u001b[0m\u001b[0;34m'json'\u001b[0m\u001b[0;34m\u001b[0m\u001b[0;34m\u001b[0m\u001b[0m\n\u001b[1;32m      6\u001b[0m \u001b[0;34m\u001b[0m\u001b[0m\n\u001b[0;32m----> 7\u001b[0;31m \u001b[0mMY_STRAVA_CLIENT_ID\u001b[0m\u001b[0;34m,\u001b[0m \u001b[0mMY_STRAVA_CLIENT_SECRET\u001b[0m \u001b[0;34m=\u001b[0m \u001b[0mopen\u001b[0m\u001b[0;34m(\u001b[0m\u001b[0mclient\u001b[0m\u001b[0;34m.\u001b[0m\u001b[0msecret\u001b[0m\u001b[0;34m)\u001b[0m\u001b[0;34m.\u001b[0m\u001b[0mread\u001b[0m\u001b[0;34m(\u001b[0m\u001b[0;34m)\u001b[0m\u001b[0;34m.\u001b[0m\u001b[0mstrip\u001b[0m\u001b[0;34m(\u001b[0m\u001b[0;34m)\u001b[0m\u001b[0;34m.\u001b[0m\u001b[0msplit\u001b[0m\u001b[0;34m(\u001b[0m\u001b[0;34m','\u001b[0m\u001b[0;34m)\u001b[0m\u001b[0;34m\u001b[0m\u001b[0;34m\u001b[0m\u001b[0m\n\u001b[0m\u001b[1;32m      8\u001b[0m \u001b[0mprint\u001b[0m \u001b[0;34m(\u001b[0m\u001b[0;34m'Client ID and secret read from file'\u001b[0m\u001b[0;34m.\u001b[0m\u001b[0mformat\u001b[0m\u001b[0;34m(\u001b[0m\u001b[0mMY_STRAVA_CLIENT_ID\u001b[0m\u001b[0;34m)\u001b[0m \u001b[0;34m)\u001b[0m\u001b[0;34m\u001b[0m\u001b[0;34m\u001b[0m\u001b[0m\n",
      "\u001b[0;31mAttributeError\u001b[0m: 'str' object has no attribute 'secret'"
     ]
    }
   ],
   "metadata": {}
  }
 ],
 "metadata": {
  "orig_nbformat": 4,
  "language_info": {
   "name": "python",
   "version": "3.7.11",
   "mimetype": "text/x-python",
   "codemirror_mode": {
    "name": "ipython",
    "version": 3
   },
   "pygments_lexer": "ipython3",
   "nbconvert_exporter": "python",
   "file_extension": ".py"
  },
  "kernelspec": {
   "name": "python3",
   "display_name": "Python 3.7.11 64-bit ('ironhack_env': conda)"
  },
  "interpreter": {
   "hash": "8c5c2b57ca15aef8b3df4b1c6669ccf99964c5a816b33fa10768565149e83d50"
  }
 },
 "nbformat": 4,
 "nbformat_minor": 2
}