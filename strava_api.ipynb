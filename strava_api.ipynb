{
 "cells": [
  {
   "cell_type": "code",
   "execution_count": 540,
   "source": [
    "import requests\n",
    "import urllib3\n",
    "import pandas as pd\n",
    "from datetime import datetime\n",
    "from datetime import time\n",
    "from datetime import date"
   ],
   "outputs": [],
   "metadata": {}
  },
  {
   "cell_type": "markdown",
   "source": [
    "Interesting link: https://towardsdatascience.com/using-the-strava-api-and-pandas-to-explore-your-activity-data-d94901d9bfde\n",
    "Strava API forum: https://groups.google.com/g/strava-api"
   ],
   "metadata": {}
  },
  {
   "cell_type": "code",
   "execution_count": 541,
   "source": [
    "urllib3.disable_warnings(urllib3.exceptions.InsecureRequestWarning)\n",
    "\n",
    "auth_url = \"https://www.strava.com/oauth/token\"\n",
    "payload = {\n",
    "    'client_id': \"75483\",\n",
    "    'client_secret': 'd7d1e5483201559ddf62c677ac12f6cf7847c5ae',\n",
    "    'refresh_token': '75994cf8182a3b6a956390b5a4da3eba764f1d85',\n",
    "    'grant_type': \"refresh_token\",\n",
    "    'f': 'json',\n",
    "}"
   ],
   "outputs": [],
   "metadata": {}
  },
  {
   "cell_type": "code",
   "execution_count": 542,
   "source": [
    "print(\"Requesting Token...\\n\")\n",
    "res = requests.post(auth_url, data=payload, verify=False)\n",
    "access_token = res.json()['access_token']\n",
    "print(\"Access Token = {}\\n\".format(access_token))"
   ],
   "outputs": [
    {
     "output_type": "stream",
     "name": "stdout",
     "text": [
      "Requesting Token...\n",
      "\n",
      "Access Token = 1e8359c635f1a6e7757aed4aecbb2463b1d228d2\n",
      "\n"
     ]
    }
   ],
   "metadata": {}
  },
  {
   "cell_type": "code",
   "execution_count": 543,
   "source": [
    "activites_url = \"https://www.strava.com/api/v3/athlete/activities\"\n",
    "\n",
    "dataset=[]\n",
    "pages_count=1\n",
    "\n",
    "while pages_count>0:\n",
    "    header = {'Authorization': 'Bearer ' + access_token}\n",
    "    param = {'per_page': 200, 'page': pages_count}\n",
    "    my_dataset=requests.get(activites_url, headers=header, params=param).json()\n",
    "    if my_dataset==[]:\n",
    "        break\n",
    "    elif my_dataset!=[]:\n",
    "        dataset.append(my_dataset)\n",
    "        pages_count+=1\n",
    "dataset = [j for i in dataset for j in i]\n"
   ],
   "outputs": [],
   "metadata": {}
  },
  {
   "cell_type": "code",
   "execution_count": 544,
   "source": [
    "activities = pd.json_normalize(dataset)"
   ],
   "outputs": [],
   "metadata": {}
  },
  {
   "cell_type": "code",
   "execution_count": 545,
   "source": [
    "#Create new dataframe with only columns I care about\n",
    "cols = ['name', 'upload_id', 'type', 'distance', 'moving_time',   \n",
    "         'average_speed', 'max_speed','total_elevation_gain',\n",
    "         'start_date_local'\n",
    "       ]\n",
    "\n",
    "activities = activities[cols]\n",
    "\n",
    "#Break date into start time and date\n",
    "activities['start_date_local']= [datetime.strptime(i,\"%Y-%m-%dT%H:%M:%SZ\") for i in activities['start_date_local']]\n",
    "\n",
    "activities['start_time']=[time(hour=i.hour,minute=i.minute,second=i.second) for i in activities['start_date_local']]\n",
    "activities['start_date_local'] =[date(year=i.year,month=i.month,day=i.day) for i in activities['start_date_local']]\n",
    "activities.head(10)"
   ],
   "outputs": [
    {
     "output_type": "execute_result",
     "data": {
      "text/html": [
       "<div>\n",
       "<style scoped>\n",
       "    .dataframe tbody tr th:only-of-type {\n",
       "        vertical-align: middle;\n",
       "    }\n",
       "\n",
       "    .dataframe tbody tr th {\n",
       "        vertical-align: top;\n",
       "    }\n",
       "\n",
       "    .dataframe thead th {\n",
       "        text-align: right;\n",
       "    }\n",
       "</style>\n",
       "<table border=\"1\" class=\"dataframe\">\n",
       "  <thead>\n",
       "    <tr style=\"text-align: right;\">\n",
       "      <th></th>\n",
       "      <th>name</th>\n",
       "      <th>upload_id</th>\n",
       "      <th>type</th>\n",
       "      <th>distance</th>\n",
       "      <th>moving_time</th>\n",
       "      <th>average_speed</th>\n",
       "      <th>max_speed</th>\n",
       "      <th>total_elevation_gain</th>\n",
       "      <th>start_date_local</th>\n",
       "      <th>start_time</th>\n",
       "    </tr>\n",
       "  </thead>\n",
       "  <tbody>\n",
       "    <tr>\n",
       "      <th>0</th>\n",
       "      <td>Carrera de tarde</td>\n",
       "      <td>6869503747</td>\n",
       "      <td>Run</td>\n",
       "      <td>8670.7</td>\n",
       "      <td>2632</td>\n",
       "      <td>3.294</td>\n",
       "      <td>7.142</td>\n",
       "      <td>97.8</td>\n",
       "      <td>2022-01-02</td>\n",
       "      <td>13:43:02</td>\n",
       "    </tr>\n",
       "    <tr>\n",
       "      <th>1</th>\n",
       "      <td>Morning Ride</td>\n",
       "      <td>6853686739</td>\n",
       "      <td>Ride</td>\n",
       "      <td>56598.7</td>\n",
       "      <td>8011</td>\n",
       "      <td>7.065</td>\n",
       "      <td>14.076</td>\n",
       "      <td>565.2</td>\n",
       "      <td>2021-12-30</td>\n",
       "      <td>10:30:10</td>\n",
       "    </tr>\n",
       "    <tr>\n",
       "      <th>2</th>\n",
       "      <td>Lunch Ride</td>\n",
       "      <td>6849803976</td>\n",
       "      <td>Ride</td>\n",
       "      <td>57733.0</td>\n",
       "      <td>9203</td>\n",
       "      <td>6.273</td>\n",
       "      <td>14.657</td>\n",
       "      <td>860.2</td>\n",
       "      <td>2021-12-29</td>\n",
       "      <td>11:05:09</td>\n",
       "    </tr>\n",
       "    <tr>\n",
       "      <th>3</th>\n",
       "      <td>Pic de la Dona + Bastiments</td>\n",
       "      <td>6844920696</td>\n",
       "      <td>Hike</td>\n",
       "      <td>9279.7</td>\n",
       "      <td>13219</td>\n",
       "      <td>0.702</td>\n",
       "      <td>4.366</td>\n",
       "      <td>787.7</td>\n",
       "      <td>2021-12-28</td>\n",
       "      <td>10:35:42</td>\n",
       "    </tr>\n",
       "    <tr>\n",
       "      <th>4</th>\n",
       "      <td>Lunch Swim</td>\n",
       "      <td>6844915929</td>\n",
       "      <td>Swim</td>\n",
       "      <td>800.0</td>\n",
       "      <td>836</td>\n",
       "      <td>0.957</td>\n",
       "      <td>0.625</td>\n",
       "      <td>0.0</td>\n",
       "      <td>2021-12-26</td>\n",
       "      <td>12:14:06</td>\n",
       "    </tr>\n",
       "    <tr>\n",
       "      <th>5</th>\n",
       "      <td>Morning Ride</td>\n",
       "      <td>6827260236</td>\n",
       "      <td>Ride</td>\n",
       "      <td>34347.8</td>\n",
       "      <td>6825</td>\n",
       "      <td>5.033</td>\n",
       "      <td>12.083</td>\n",
       "      <td>457.4</td>\n",
       "      <td>2021-12-24</td>\n",
       "      <td>10:16:45</td>\n",
       "    </tr>\n",
       "    <tr>\n",
       "      <th>6</th>\n",
       "      <td>Afternoon Run</td>\n",
       "      <td>6819310648</td>\n",
       "      <td>Run</td>\n",
       "      <td>8061.9</td>\n",
       "      <td>2497</td>\n",
       "      <td>3.229</td>\n",
       "      <td>3.920</td>\n",
       "      <td>109.8</td>\n",
       "      <td>2021-12-22</td>\n",
       "      <td>13:12:30</td>\n",
       "    </tr>\n",
       "    <tr>\n",
       "      <th>7</th>\n",
       "      <td>Evening Swim</td>\n",
       "      <td>6812128544</td>\n",
       "      <td>Swim</td>\n",
       "      <td>1200.0</td>\n",
       "      <td>1419</td>\n",
       "      <td>0.846</td>\n",
       "      <td>1.336</td>\n",
       "      <td>0.0</td>\n",
       "      <td>2021-12-20</td>\n",
       "      <td>18:49:18</td>\n",
       "    </tr>\n",
       "    <tr>\n",
       "      <th>8</th>\n",
       "      <td>Lunch Ride</td>\n",
       "      <td>6798101336</td>\n",
       "      <td>Ride</td>\n",
       "      <td>20650.0</td>\n",
       "      <td>4972</td>\n",
       "      <td>4.153</td>\n",
       "      <td>9.545</td>\n",
       "      <td>357.3</td>\n",
       "      <td>2021-12-17</td>\n",
       "      <td>12:30:19</td>\n",
       "    </tr>\n",
       "    <tr>\n",
       "      <th>9</th>\n",
       "      <td>Afternoon Run</td>\n",
       "      <td>6785614520</td>\n",
       "      <td>Run</td>\n",
       "      <td>7942.9</td>\n",
       "      <td>2554</td>\n",
       "      <td>3.110</td>\n",
       "      <td>4.383</td>\n",
       "      <td>120.3</td>\n",
       "      <td>2021-12-14</td>\n",
       "      <td>16:50:01</td>\n",
       "    </tr>\n",
       "  </tbody>\n",
       "</table>\n",
       "</div>"
      ],
      "text/plain": [
       "                          name   upload_id  type  distance  moving_time  \\\n",
       "0             Carrera de tarde  6869503747   Run    8670.7         2632   \n",
       "1                 Morning Ride  6853686739  Ride   56598.7         8011   \n",
       "2                   Lunch Ride  6849803976  Ride   57733.0         9203   \n",
       "3  Pic de la Dona + Bastiments  6844920696  Hike    9279.7        13219   \n",
       "4                   Lunch Swim  6844915929  Swim     800.0          836   \n",
       "5                 Morning Ride  6827260236  Ride   34347.8         6825   \n",
       "6                Afternoon Run  6819310648   Run    8061.9         2497   \n",
       "7                 Evening Swim  6812128544  Swim    1200.0         1419   \n",
       "8                   Lunch Ride  6798101336  Ride   20650.0         4972   \n",
       "9                Afternoon Run  6785614520   Run    7942.9         2554   \n",
       "\n",
       "   average_speed  max_speed  total_elevation_gain start_date_local start_time  \n",
       "0          3.294      7.142                  97.8       2022-01-02   13:43:02  \n",
       "1          7.065     14.076                 565.2       2021-12-30   10:30:10  \n",
       "2          6.273     14.657                 860.2       2021-12-29   11:05:09  \n",
       "3          0.702      4.366                 787.7       2021-12-28   10:35:42  \n",
       "4          0.957      0.625                   0.0       2021-12-26   12:14:06  \n",
       "5          5.033     12.083                 457.4       2021-12-24   10:16:45  \n",
       "6          3.229      3.920                 109.8       2021-12-22   13:12:30  \n",
       "7          0.846      1.336                   0.0       2021-12-20   18:49:18  \n",
       "8          4.153      9.545                 357.3       2021-12-17   12:30:19  \n",
       "9          3.110      4.383                 120.3       2021-12-14   16:50:01  "
      ]
     },
     "metadata": {},
     "execution_count": 545
    }
   ],
   "metadata": {}
  },
  {
   "cell_type": "code",
   "execution_count": 546,
   "source": [
    "activities['type'].value_counts()"
   ],
   "outputs": [
    {
     "output_type": "execute_result",
     "data": {
      "text/plain": [
       "Ride              168\n",
       "Run               112\n",
       "Swim               79\n",
       "Hike               50\n",
       "Workout             2\n",
       "BackcountrySki      1\n",
       "Name: type, dtype: int64"
      ]
     },
     "metadata": {},
     "execution_count": 546
    }
   ],
   "metadata": {}
  },
  {
   "cell_type": "markdown",
   "source": [
    "### Get the maps of the routes\n",
    "https://developers.google.com/maps/documentation/utilities/polylineutility"
   ],
   "metadata": {}
  },
  {
   "cell_type": "code",
   "execution_count": 550,
   "source": [
    "activities[\"map.summary_polyline\"]\n"
   ],
   "outputs": [
    {
     "output_type": "error",
     "ename": "KeyError",
     "evalue": "'map.summary_polyline'",
     "traceback": [
      "\u001b[0;31m---------------------------------------------------------------------------\u001b[0m",
      "\u001b[0;31mKeyError\u001b[0m                                  Traceback (most recent call last)",
      "\u001b[0;32m~/miniconda3/envs/ironhack_env/lib/python3.7/site-packages/pandas/core/indexes/base.py\u001b[0m in \u001b[0;36mget_loc\u001b[0;34m(self, key, method, tolerance)\u001b[0m\n\u001b[1;32m   3360\u001b[0m             \u001b[0;32mtry\u001b[0m\u001b[0;34m:\u001b[0m\u001b[0;34m\u001b[0m\u001b[0;34m\u001b[0m\u001b[0m\n\u001b[0;32m-> 3361\u001b[0;31m                 \u001b[0;32mreturn\u001b[0m \u001b[0mself\u001b[0m\u001b[0;34m.\u001b[0m\u001b[0m_engine\u001b[0m\u001b[0;34m.\u001b[0m\u001b[0mget_loc\u001b[0m\u001b[0;34m(\u001b[0m\u001b[0mcasted_key\u001b[0m\u001b[0;34m)\u001b[0m\u001b[0;34m\u001b[0m\u001b[0;34m\u001b[0m\u001b[0m\n\u001b[0m\u001b[1;32m   3362\u001b[0m             \u001b[0;32mexcept\u001b[0m \u001b[0mKeyError\u001b[0m \u001b[0;32mas\u001b[0m \u001b[0merr\u001b[0m\u001b[0;34m:\u001b[0m\u001b[0;34m\u001b[0m\u001b[0;34m\u001b[0m\u001b[0m\n",
      "\u001b[0;32m~/miniconda3/envs/ironhack_env/lib/python3.7/site-packages/pandas/_libs/index.pyx\u001b[0m in \u001b[0;36mpandas._libs.index.IndexEngine.get_loc\u001b[0;34m()\u001b[0m\n",
      "\u001b[0;32m~/miniconda3/envs/ironhack_env/lib/python3.7/site-packages/pandas/_libs/index.pyx\u001b[0m in \u001b[0;36mpandas._libs.index.IndexEngine.get_loc\u001b[0;34m()\u001b[0m\n",
      "\u001b[0;32mpandas/_libs/hashtable_class_helper.pxi\u001b[0m in \u001b[0;36mpandas._libs.hashtable.PyObjectHashTable.get_item\u001b[0;34m()\u001b[0m\n",
      "\u001b[0;32mpandas/_libs/hashtable_class_helper.pxi\u001b[0m in \u001b[0;36mpandas._libs.hashtable.PyObjectHashTable.get_item\u001b[0;34m()\u001b[0m\n",
      "\u001b[0;31mKeyError\u001b[0m: 'map.summary_polyline'",
      "\nThe above exception was the direct cause of the following exception:\n",
      "\u001b[0;31mKeyError\u001b[0m                                  Traceback (most recent call last)",
      "\u001b[0;32m/var/folders/40/fyg8xwn57w35xfgkjf6frjkr0000gn/T/ipykernel_9125/2894211921.py\u001b[0m in \u001b[0;36m<module>\u001b[0;34m\u001b[0m\n\u001b[0;32m----> 1\u001b[0;31m \u001b[0mactivities\u001b[0m\u001b[0;34m[\u001b[0m\u001b[0;34m\"map.summary_polyline\"\u001b[0m\u001b[0;34m]\u001b[0m\u001b[0;34m\u001b[0m\u001b[0;34m\u001b[0m\u001b[0m\n\u001b[0m",
      "\u001b[0;32m~/miniconda3/envs/ironhack_env/lib/python3.7/site-packages/pandas/core/frame.py\u001b[0m in \u001b[0;36m__getitem__\u001b[0;34m(self, key)\u001b[0m\n\u001b[1;32m   3456\u001b[0m             \u001b[0;32mif\u001b[0m \u001b[0mself\u001b[0m\u001b[0;34m.\u001b[0m\u001b[0mcolumns\u001b[0m\u001b[0;34m.\u001b[0m\u001b[0mnlevels\u001b[0m \u001b[0;34m>\u001b[0m \u001b[0;36m1\u001b[0m\u001b[0;34m:\u001b[0m\u001b[0;34m\u001b[0m\u001b[0;34m\u001b[0m\u001b[0m\n\u001b[1;32m   3457\u001b[0m                 \u001b[0;32mreturn\u001b[0m \u001b[0mself\u001b[0m\u001b[0;34m.\u001b[0m\u001b[0m_getitem_multilevel\u001b[0m\u001b[0;34m(\u001b[0m\u001b[0mkey\u001b[0m\u001b[0;34m)\u001b[0m\u001b[0;34m\u001b[0m\u001b[0;34m\u001b[0m\u001b[0m\n\u001b[0;32m-> 3458\u001b[0;31m             \u001b[0mindexer\u001b[0m \u001b[0;34m=\u001b[0m \u001b[0mself\u001b[0m\u001b[0;34m.\u001b[0m\u001b[0mcolumns\u001b[0m\u001b[0;34m.\u001b[0m\u001b[0mget_loc\u001b[0m\u001b[0;34m(\u001b[0m\u001b[0mkey\u001b[0m\u001b[0;34m)\u001b[0m\u001b[0;34m\u001b[0m\u001b[0;34m\u001b[0m\u001b[0m\n\u001b[0m\u001b[1;32m   3459\u001b[0m             \u001b[0;32mif\u001b[0m \u001b[0mis_integer\u001b[0m\u001b[0;34m(\u001b[0m\u001b[0mindexer\u001b[0m\u001b[0;34m)\u001b[0m\u001b[0;34m:\u001b[0m\u001b[0;34m\u001b[0m\u001b[0;34m\u001b[0m\u001b[0m\n\u001b[1;32m   3460\u001b[0m                 \u001b[0mindexer\u001b[0m \u001b[0;34m=\u001b[0m \u001b[0;34m[\u001b[0m\u001b[0mindexer\u001b[0m\u001b[0;34m]\u001b[0m\u001b[0;34m\u001b[0m\u001b[0;34m\u001b[0m\u001b[0m\n",
      "\u001b[0;32m~/miniconda3/envs/ironhack_env/lib/python3.7/site-packages/pandas/core/indexes/base.py\u001b[0m in \u001b[0;36mget_loc\u001b[0;34m(self, key, method, tolerance)\u001b[0m\n\u001b[1;32m   3361\u001b[0m                 \u001b[0;32mreturn\u001b[0m \u001b[0mself\u001b[0m\u001b[0;34m.\u001b[0m\u001b[0m_engine\u001b[0m\u001b[0;34m.\u001b[0m\u001b[0mget_loc\u001b[0m\u001b[0;34m(\u001b[0m\u001b[0mcasted_key\u001b[0m\u001b[0;34m)\u001b[0m\u001b[0;34m\u001b[0m\u001b[0;34m\u001b[0m\u001b[0m\n\u001b[1;32m   3362\u001b[0m             \u001b[0;32mexcept\u001b[0m \u001b[0mKeyError\u001b[0m \u001b[0;32mas\u001b[0m \u001b[0merr\u001b[0m\u001b[0;34m:\u001b[0m\u001b[0;34m\u001b[0m\u001b[0;34m\u001b[0m\u001b[0m\n\u001b[0;32m-> 3363\u001b[0;31m                 \u001b[0;32mraise\u001b[0m \u001b[0mKeyError\u001b[0m\u001b[0;34m(\u001b[0m\u001b[0mkey\u001b[0m\u001b[0;34m)\u001b[0m \u001b[0;32mfrom\u001b[0m \u001b[0merr\u001b[0m\u001b[0;34m\u001b[0m\u001b[0;34m\u001b[0m\u001b[0m\n\u001b[0m\u001b[1;32m   3364\u001b[0m \u001b[0;34m\u001b[0m\u001b[0m\n\u001b[1;32m   3365\u001b[0m         \u001b[0;32mif\u001b[0m \u001b[0mis_scalar\u001b[0m\u001b[0;34m(\u001b[0m\u001b[0mkey\u001b[0m\u001b[0;34m)\u001b[0m \u001b[0;32mand\u001b[0m \u001b[0misna\u001b[0m\u001b[0;34m(\u001b[0m\u001b[0mkey\u001b[0m\u001b[0;34m)\u001b[0m \u001b[0;32mand\u001b[0m \u001b[0;32mnot\u001b[0m \u001b[0mself\u001b[0m\u001b[0;34m.\u001b[0m\u001b[0mhasnans\u001b[0m\u001b[0;34m:\u001b[0m\u001b[0;34m\u001b[0m\u001b[0;34m\u001b[0m\u001b[0m\n",
      "\u001b[0;31mKeyError\u001b[0m: 'map.summary_polyline'"
     ]
    }
   ],
   "metadata": {}
  },
  {
   "cell_type": "code",
   "execution_count": null,
   "source": [],
   "outputs": [],
   "metadata": {}
  }
 ],
 "metadata": {
  "orig_nbformat": 4,
  "language_info": {
   "name": "python",
   "version": "3.7.11",
   "mimetype": "text/x-python",
   "codemirror_mode": {
    "name": "ipython",
    "version": 3
   },
   "pygments_lexer": "ipython3",
   "nbconvert_exporter": "python",
   "file_extension": ".py"
  },
  "kernelspec": {
   "name": "python3",
   "display_name": "Python 3.7.11 64-bit ('ironhack_env': conda)"
  },
  "interpreter": {
   "hash": "8c5c2b57ca15aef8b3df4b1c6669ccf99964c5a816b33fa10768565149e83d50"
  }
 },
 "nbformat": 4,
 "nbformat_minor": 2
}