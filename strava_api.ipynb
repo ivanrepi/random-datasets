{
 "cells": [
  {
   "cell_type": "code",
   "execution_count": 27,
   "source": [
    "import requests\n",
    "import urllib3\n",
    "import pandas as pd\n",
    "from datetime import datetime\n",
    "from datetime import time\n",
    "from datetime import date"
   ],
   "outputs": [],
   "metadata": {}
  },
  {
   "cell_type": "markdown",
   "source": [
    "Interesting link: https://towardsdatascience.com/using-the-strava-api-and-pandas-to-explore-your-activity-data-d94901d9bfde\n",
    "Strava API forum: https://groups.google.com/g/strava-api"
   ],
   "metadata": {}
  },
  {
   "cell_type": "code",
   "execution_count": 28,
   "source": [
    "urllib3.disable_warnings(urllib3.exceptions.InsecureRequestWarning)\n",
    "\n",
    "auth_url = \"https://www.strava.com/oauth/token\"\n",
    "payload = {\n",
    "    'client_id': \"75483\",\n",
    "    'client_secret': 'd7d1e5483201559ddf62c677ac12f6cf7847c5ae',\n",
    "    'refresh_token': '75994cf8182a3b6a956390b5a4da3eba764f1d85',\n",
    "    'grant_type': \"refresh_token\",\n",
    "    'f': 'json',\n",
    "}"
   ],
   "outputs": [],
   "metadata": {}
  },
  {
   "cell_type": "code",
   "execution_count": 29,
   "source": [
    "print(\"Requesting Token...\\n\")\n",
    "res = requests.post(auth_url, data=payload, verify=False)\n",
    "access_token = res.json()['access_token']\n",
    "print(\"Access Token = {}\\n\".format(access_token))"
   ],
   "outputs": [
    {
     "output_type": "stream",
     "name": "stdout",
     "text": [
      "Requesting Token...\n",
      "\n",
      "Access Token = 6204604ec8f73039d1a75311d24c4d47577e5638\n",
      "\n"
     ]
    }
   ],
   "metadata": {}
  },
  {
   "cell_type": "code",
   "execution_count": 30,
   "source": [
    "activites_url = \"https://www.strava.com/api/v3/athlete/activities\"\n",
    "\n",
    "dataset=[]\n",
    "pages_count=1\n",
    "\n",
    "while pages_count>0:\n",
    "    header = {'Authorization': 'Bearer ' + access_token}\n",
    "    param = {'per_page': 200, 'page': pages_count}\n",
    "    my_dataset=requests.get(activites_url, headers=header, params=param).json()\n",
    "    if my_dataset==[]:\n",
    "        break\n",
    "    elif my_dataset!=[]:\n",
    "        dataset.append(my_dataset)\n",
    "        pages_count+=1\n",
    "dataset = [j for i in dataset for j in i]\n"
   ],
   "outputs": [],
   "metadata": {}
  },
  {
   "cell_type": "code",
   "execution_count": 31,
   "source": [
    "activities = pd.json_normalize(dataset)"
   ],
   "outputs": [],
   "metadata": {}
  },
  {
   "cell_type": "code",
   "execution_count": 32,
   "source": [
    "#Create new dataframe with only columns I care about\n",
    "cols = ['name', 'upload_id', 'type', 'distance', 'moving_time',   \n",
    "         'average_speed', 'max_speed','total_elevation_gain',\n",
    "         'start_date_local'\n",
    "       ]\n",
    "\n",
    "activities = activities[cols]\n",
    "\n",
    "#Break date into start time and date\n",
    "activities['start_date_local']= [datetime.strptime(i,\"%Y-%m-%dT%H:%M:%SZ\") for i in activities['start_date_local']]\n",
    "\n",
    "activities['start_time']=[time(hour=i.hour,minute=i.minute,second=i.second) for i in activities['start_date_local']]\n",
    "activities['start_date_local'] =[date(year=i.year,month=i.month,day=i.day) for i in activities['start_date_local']]\n",
    "activities.head(10)"
   ],
   "outputs": [
    {
     "output_type": "execute_result",
     "data": {
      "text/html": [
       "<div>\n",
       "<style scoped>\n",
       "    .dataframe tbody tr th:only-of-type {\n",
       "        vertical-align: middle;\n",
       "    }\n",
       "\n",
       "    .dataframe tbody tr th {\n",
       "        vertical-align: top;\n",
       "    }\n",
       "\n",
       "    .dataframe thead th {\n",
       "        text-align: right;\n",
       "    }\n",
       "</style>\n",
       "<table border=\"1\" class=\"dataframe\">\n",
       "  <thead>\n",
       "    <tr style=\"text-align: right;\">\n",
       "      <th></th>\n",
       "      <th>name</th>\n",
       "      <th>upload_id</th>\n",
       "      <th>type</th>\n",
       "      <th>distance</th>\n",
       "      <th>moving_time</th>\n",
       "      <th>average_speed</th>\n",
       "      <th>max_speed</th>\n",
       "      <th>total_elevation_gain</th>\n",
       "      <th>start_date_local</th>\n",
       "      <th>start_time</th>\n",
       "    </tr>\n",
       "  </thead>\n",
       "  <tbody>\n",
       "    <tr>\n",
       "      <th>0</th>\n",
       "      <td>Afternoon Swim</td>\n",
       "      <td>7008640440</td>\n",
       "      <td>Swim</td>\n",
       "      <td>1200.0</td>\n",
       "      <td>1375</td>\n",
       "      <td>0.873</td>\n",
       "      <td>4.860</td>\n",
       "      <td>0.0</td>\n",
       "      <td>2022-01-27</td>\n",
       "      <td>17:31:05</td>\n",
       "    </tr>\n",
       "    <tr>\n",
       "      <th>1</th>\n",
       "      <td>Afternoon Run</td>\n",
       "      <td>7001539338</td>\n",
       "      <td>Run</td>\n",
       "      <td>9343.2</td>\n",
       "      <td>2721</td>\n",
       "      <td>3.434</td>\n",
       "      <td>4.708</td>\n",
       "      <td>96.7</td>\n",
       "      <td>2022-01-26</td>\n",
       "      <td>13:06:56</td>\n",
       "    </tr>\n",
       "    <tr>\n",
       "      <th>2</th>\n",
       "      <td>Afternoon Run</td>\n",
       "      <td>6991911925</td>\n",
       "      <td>Run</td>\n",
       "      <td>8309.9</td>\n",
       "      <td>2471</td>\n",
       "      <td>3.363</td>\n",
       "      <td>4.323</td>\n",
       "      <td>100.8</td>\n",
       "      <td>2022-01-24</td>\n",
       "      <td>17:35:41</td>\n",
       "    </tr>\n",
       "    <tr>\n",
       "      <th>3</th>\n",
       "      <td>Afternoon Swim</td>\n",
       "      <td>6969582248</td>\n",
       "      <td>Swim</td>\n",
       "      <td>1000.0</td>\n",
       "      <td>1133</td>\n",
       "      <td>0.883</td>\n",
       "      <td>1.325</td>\n",
       "      <td>0.0</td>\n",
       "      <td>2022-01-20</td>\n",
       "      <td>17:45:08</td>\n",
       "    </tr>\n",
       "    <tr>\n",
       "      <th>4</th>\n",
       "      <td>Afternoon Run</td>\n",
       "      <td>6965007702</td>\n",
       "      <td>Run</td>\n",
       "      <td>7097.5</td>\n",
       "      <td>2311</td>\n",
       "      <td>3.071</td>\n",
       "      <td>4.728</td>\n",
       "      <td>96.1</td>\n",
       "      <td>2022-01-19</td>\n",
       "      <td>17:46:35</td>\n",
       "    </tr>\n",
       "    <tr>\n",
       "      <th>5</th>\n",
       "      <td>Afternoon Swim</td>\n",
       "      <td>6958679758</td>\n",
       "      <td>Swim</td>\n",
       "      <td>1200.0</td>\n",
       "      <td>1361</td>\n",
       "      <td>0.882</td>\n",
       "      <td>6.872</td>\n",
       "      <td>0.0</td>\n",
       "      <td>2022-01-18</td>\n",
       "      <td>17:32:28</td>\n",
       "    </tr>\n",
       "    <tr>\n",
       "      <th>6</th>\n",
       "      <td>Evening Run</td>\n",
       "      <td>6953646395</td>\n",
       "      <td>Run</td>\n",
       "      <td>6223.4</td>\n",
       "      <td>2407</td>\n",
       "      <td>2.586</td>\n",
       "      <td>4.328</td>\n",
       "      <td>0.0</td>\n",
       "      <td>2022-01-17</td>\n",
       "      <td>19:40:03</td>\n",
       "    </tr>\n",
       "    <tr>\n",
       "      <th>7</th>\n",
       "      <td>Lunch Ride</td>\n",
       "      <td>6946126922</td>\n",
       "      <td>Ride</td>\n",
       "      <td>30408.5</td>\n",
       "      <td>7385</td>\n",
       "      <td>4.118</td>\n",
       "      <td>11.385</td>\n",
       "      <td>520.3</td>\n",
       "      <td>2022-01-16</td>\n",
       "      <td>11:19:59</td>\n",
       "    </tr>\n",
       "    <tr>\n",
       "      <th>8</th>\n",
       "      <td>Afternoon Run</td>\n",
       "      <td>6917922349</td>\n",
       "      <td>Run</td>\n",
       "      <td>4771.7</td>\n",
       "      <td>1489</td>\n",
       "      <td>3.205</td>\n",
       "      <td>4.139</td>\n",
       "      <td>51.2</td>\n",
       "      <td>2022-01-11</td>\n",
       "      <td>13:23:52</td>\n",
       "    </tr>\n",
       "    <tr>\n",
       "      <th>9</th>\n",
       "      <td>Evening Swim</td>\n",
       "      <td>6914427420</td>\n",
       "      <td>Swim</td>\n",
       "      <td>1200.0</td>\n",
       "      <td>1496</td>\n",
       "      <td>0.802</td>\n",
       "      <td>1.187</td>\n",
       "      <td>0.0</td>\n",
       "      <td>2022-01-10</td>\n",
       "      <td>18:42:22</td>\n",
       "    </tr>\n",
       "  </tbody>\n",
       "</table>\n",
       "</div>"
      ],
      "text/plain": [
       "             name   upload_id  type  distance  moving_time  average_speed  \\\n",
       "0  Afternoon Swim  7008640440  Swim    1200.0         1375          0.873   \n",
       "1   Afternoon Run  7001539338   Run    9343.2         2721          3.434   \n",
       "2   Afternoon Run  6991911925   Run    8309.9         2471          3.363   \n",
       "3  Afternoon Swim  6969582248  Swim    1000.0         1133          0.883   \n",
       "4   Afternoon Run  6965007702   Run    7097.5         2311          3.071   \n",
       "5  Afternoon Swim  6958679758  Swim    1200.0         1361          0.882   \n",
       "6     Evening Run  6953646395   Run    6223.4         2407          2.586   \n",
       "7      Lunch Ride  6946126922  Ride   30408.5         7385          4.118   \n",
       "8   Afternoon Run  6917922349   Run    4771.7         1489          3.205   \n",
       "9    Evening Swim  6914427420  Swim    1200.0         1496          0.802   \n",
       "\n",
       "   max_speed  total_elevation_gain start_date_local start_time  \n",
       "0      4.860                   0.0       2022-01-27   17:31:05  \n",
       "1      4.708                  96.7       2022-01-26   13:06:56  \n",
       "2      4.323                 100.8       2022-01-24   17:35:41  \n",
       "3      1.325                   0.0       2022-01-20   17:45:08  \n",
       "4      4.728                  96.1       2022-01-19   17:46:35  \n",
       "5      6.872                   0.0       2022-01-18   17:32:28  \n",
       "6      4.328                   0.0       2022-01-17   19:40:03  \n",
       "7     11.385                 520.3       2022-01-16   11:19:59  \n",
       "8      4.139                  51.2       2022-01-11   13:23:52  \n",
       "9      1.187                   0.0       2022-01-10   18:42:22  "
      ]
     },
     "metadata": {},
     "execution_count": 32
    }
   ],
   "metadata": {}
  },
  {
   "cell_type": "code",
   "execution_count": 33,
   "source": [
    "activities['type'].value_counts()"
   ],
   "outputs": [
    {
     "output_type": "execute_result",
     "data": {
      "text/plain": [
       "Ride              170\n",
       "Run               117\n",
       "Swim               83\n",
       "Hike               50\n",
       "Workout             2\n",
       "BackcountrySki      1\n",
       "Name: type, dtype: int64"
      ]
     },
     "metadata": {},
     "execution_count": 33
    }
   ],
   "metadata": {}
  },
  {
   "cell_type": "markdown",
   "source": [
    "### Get the maps of the routes\n",
    "https://developers.google.com/maps/documentation/utilities/polylineutility"
   ],
   "metadata": {}
  },
  {
   "cell_type": "code",
   "execution_count": 550,
   "source": [
    "activities[\"map.summary_polyline\"]\n"
   ],
   "outputs": [
    {
     "output_type": "error",
     "ename": "KeyError",
     "evalue": "'map.summary_polyline'",
     "traceback": [
      "\u001b[0;31m---------------------------------------------------------------------------\u001b[0m",
      "\u001b[0;31mKeyError\u001b[0m                                  Traceback (most recent call last)",
      "\u001b[0;32m~/miniconda3/envs/ironhack_env/lib/python3.7/site-packages/pandas/core/indexes/base.py\u001b[0m in \u001b[0;36mget_loc\u001b[0;34m(self, key, method, tolerance)\u001b[0m\n\u001b[1;32m   3360\u001b[0m             \u001b[0;32mtry\u001b[0m\u001b[0;34m:\u001b[0m\u001b[0;34m\u001b[0m\u001b[0;34m\u001b[0m\u001b[0m\n\u001b[0;32m-> 3361\u001b[0;31m                 \u001b[0;32mreturn\u001b[0m \u001b[0mself\u001b[0m\u001b[0;34m.\u001b[0m\u001b[0m_engine\u001b[0m\u001b[0;34m.\u001b[0m\u001b[0mget_loc\u001b[0m\u001b[0;34m(\u001b[0m\u001b[0mcasted_key\u001b[0m\u001b[0;34m)\u001b[0m\u001b[0;34m\u001b[0m\u001b[0;34m\u001b[0m\u001b[0m\n\u001b[0m\u001b[1;32m   3362\u001b[0m             \u001b[0;32mexcept\u001b[0m \u001b[0mKeyError\u001b[0m \u001b[0;32mas\u001b[0m \u001b[0merr\u001b[0m\u001b[0;34m:\u001b[0m\u001b[0;34m\u001b[0m\u001b[0;34m\u001b[0m\u001b[0m\n",
      "\u001b[0;32m~/miniconda3/envs/ironhack_env/lib/python3.7/site-packages/pandas/_libs/index.pyx\u001b[0m in \u001b[0;36mpandas._libs.index.IndexEngine.get_loc\u001b[0;34m()\u001b[0m\n",
      "\u001b[0;32m~/miniconda3/envs/ironhack_env/lib/python3.7/site-packages/pandas/_libs/index.pyx\u001b[0m in \u001b[0;36mpandas._libs.index.IndexEngine.get_loc\u001b[0;34m()\u001b[0m\n",
      "\u001b[0;32mpandas/_libs/hashtable_class_helper.pxi\u001b[0m in \u001b[0;36mpandas._libs.hashtable.PyObjectHashTable.get_item\u001b[0;34m()\u001b[0m\n",
      "\u001b[0;32mpandas/_libs/hashtable_class_helper.pxi\u001b[0m in \u001b[0;36mpandas._libs.hashtable.PyObjectHashTable.get_item\u001b[0;34m()\u001b[0m\n",
      "\u001b[0;31mKeyError\u001b[0m: 'map.summary_polyline'",
      "\nThe above exception was the direct cause of the following exception:\n",
      "\u001b[0;31mKeyError\u001b[0m                                  Traceback (most recent call last)",
      "\u001b[0;32m/var/folders/40/fyg8xwn57w35xfgkjf6frjkr0000gn/T/ipykernel_9125/2894211921.py\u001b[0m in \u001b[0;36m<module>\u001b[0;34m\u001b[0m\n\u001b[0;32m----> 1\u001b[0;31m \u001b[0mactivities\u001b[0m\u001b[0;34m[\u001b[0m\u001b[0;34m\"map.summary_polyline\"\u001b[0m\u001b[0;34m]\u001b[0m\u001b[0;34m\u001b[0m\u001b[0;34m\u001b[0m\u001b[0m\n\u001b[0m",
      "\u001b[0;32m~/miniconda3/envs/ironhack_env/lib/python3.7/site-packages/pandas/core/frame.py\u001b[0m in \u001b[0;36m__getitem__\u001b[0;34m(self, key)\u001b[0m\n\u001b[1;32m   3456\u001b[0m             \u001b[0;32mif\u001b[0m \u001b[0mself\u001b[0m\u001b[0;34m.\u001b[0m\u001b[0mcolumns\u001b[0m\u001b[0;34m.\u001b[0m\u001b[0mnlevels\u001b[0m \u001b[0;34m>\u001b[0m \u001b[0;36m1\u001b[0m\u001b[0;34m:\u001b[0m\u001b[0;34m\u001b[0m\u001b[0;34m\u001b[0m\u001b[0m\n\u001b[1;32m   3457\u001b[0m                 \u001b[0;32mreturn\u001b[0m \u001b[0mself\u001b[0m\u001b[0;34m.\u001b[0m\u001b[0m_getitem_multilevel\u001b[0m\u001b[0;34m(\u001b[0m\u001b[0mkey\u001b[0m\u001b[0;34m)\u001b[0m\u001b[0;34m\u001b[0m\u001b[0;34m\u001b[0m\u001b[0m\n\u001b[0;32m-> 3458\u001b[0;31m             \u001b[0mindexer\u001b[0m \u001b[0;34m=\u001b[0m \u001b[0mself\u001b[0m\u001b[0;34m.\u001b[0m\u001b[0mcolumns\u001b[0m\u001b[0;34m.\u001b[0m\u001b[0mget_loc\u001b[0m\u001b[0;34m(\u001b[0m\u001b[0mkey\u001b[0m\u001b[0;34m)\u001b[0m\u001b[0;34m\u001b[0m\u001b[0;34m\u001b[0m\u001b[0m\n\u001b[0m\u001b[1;32m   3459\u001b[0m             \u001b[0;32mif\u001b[0m \u001b[0mis_integer\u001b[0m\u001b[0;34m(\u001b[0m\u001b[0mindexer\u001b[0m\u001b[0;34m)\u001b[0m\u001b[0;34m:\u001b[0m\u001b[0;34m\u001b[0m\u001b[0;34m\u001b[0m\u001b[0m\n\u001b[1;32m   3460\u001b[0m                 \u001b[0mindexer\u001b[0m \u001b[0;34m=\u001b[0m \u001b[0;34m[\u001b[0m\u001b[0mindexer\u001b[0m\u001b[0;34m]\u001b[0m\u001b[0;34m\u001b[0m\u001b[0;34m\u001b[0m\u001b[0m\n",
      "\u001b[0;32m~/miniconda3/envs/ironhack_env/lib/python3.7/site-packages/pandas/core/indexes/base.py\u001b[0m in \u001b[0;36mget_loc\u001b[0;34m(self, key, method, tolerance)\u001b[0m\n\u001b[1;32m   3361\u001b[0m                 \u001b[0;32mreturn\u001b[0m \u001b[0mself\u001b[0m\u001b[0;34m.\u001b[0m\u001b[0m_engine\u001b[0m\u001b[0;34m.\u001b[0m\u001b[0mget_loc\u001b[0m\u001b[0;34m(\u001b[0m\u001b[0mcasted_key\u001b[0m\u001b[0;34m)\u001b[0m\u001b[0;34m\u001b[0m\u001b[0;34m\u001b[0m\u001b[0m\n\u001b[1;32m   3362\u001b[0m             \u001b[0;32mexcept\u001b[0m \u001b[0mKeyError\u001b[0m \u001b[0;32mas\u001b[0m \u001b[0merr\u001b[0m\u001b[0;34m:\u001b[0m\u001b[0;34m\u001b[0m\u001b[0;34m\u001b[0m\u001b[0m\n\u001b[0;32m-> 3363\u001b[0;31m                 \u001b[0;32mraise\u001b[0m \u001b[0mKeyError\u001b[0m\u001b[0;34m(\u001b[0m\u001b[0mkey\u001b[0m\u001b[0;34m)\u001b[0m \u001b[0;32mfrom\u001b[0m \u001b[0merr\u001b[0m\u001b[0;34m\u001b[0m\u001b[0;34m\u001b[0m\u001b[0m\n\u001b[0m\u001b[1;32m   3364\u001b[0m \u001b[0;34m\u001b[0m\u001b[0m\n\u001b[1;32m   3365\u001b[0m         \u001b[0;32mif\u001b[0m \u001b[0mis_scalar\u001b[0m\u001b[0;34m(\u001b[0m\u001b[0mkey\u001b[0m\u001b[0;34m)\u001b[0m \u001b[0;32mand\u001b[0m \u001b[0misna\u001b[0m\u001b[0;34m(\u001b[0m\u001b[0mkey\u001b[0m\u001b[0;34m)\u001b[0m \u001b[0;32mand\u001b[0m \u001b[0;32mnot\u001b[0m \u001b[0mself\u001b[0m\u001b[0;34m.\u001b[0m\u001b[0mhasnans\u001b[0m\u001b[0;34m:\u001b[0m\u001b[0;34m\u001b[0m\u001b[0;34m\u001b[0m\u001b[0m\n",
      "\u001b[0;31mKeyError\u001b[0m: 'map.summary_polyline'"
     ]
    }
   ],
   "metadata": {}
  },
  {
   "cell_type": "code",
   "execution_count": null,
   "source": [],
   "outputs": [],
   "metadata": {}
  }
 ],
 "metadata": {
  "orig_nbformat": 4,
  "language_info": {
   "name": "python",
   "version": "3.7.11",
   "mimetype": "text/x-python",
   "codemirror_mode": {
    "name": "ipython",
    "version": 3
   },
   "pygments_lexer": "ipython3",
   "nbconvert_exporter": "python",
   "file_extension": ".py"
  },
  "kernelspec": {
   "name": "python3",
   "display_name": "Python 3.7.11 64-bit ('ironhack_env': conda)"
  },
  "interpreter": {
   "hash": "8c5c2b57ca15aef8b3df4b1c6669ccf99964c5a816b33fa10768565149e83d50"
  }
 },
 "nbformat": 4,
 "nbformat_minor": 2
}