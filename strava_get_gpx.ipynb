{
 "cells": [
  {
   "cell_type": "code",
   "execution_count": 22,
   "source": [
    "import pandas as pd\n",
    "import requests\n",
    "import gpxpy\n",
    "import gpxpy.gpx\n",
    "import json\n",
    "from gpx_converter import Converter\n",
    "\n",
    "#gpx_url=\"https://www.strava.com/api/v3/routes/6610645421/export_gpx\"\n",
    "gpx_url='https://www.strava.com/api/v3/activities/6610645421/streams?keys=time,distance,latlng,altitude,velocity_smooth,heartrate,cadence,watts,temp,moving,grade_smooth&key_by_type=true'\n",
    "#gpx_url= \"https://www.strava.com/api/v3/routes/%s/export_gpx\" % 6610645421\n",
    "\n",
    "header = {'Authorization': 'Bearer ' + 'f993023623384a659f095e1c1fc55fc8c6ab1199'}\n",
    "gpx_json=requests.get(gpx_url, headers=header).json()\n",
    "\n",
    "gpx_df=pd.DataFrame(gpx_json)\n",
    "gpx_df.to_json(\"data\\example.gpx\")\n"
   ],
   "outputs": [],
   "metadata": {}
  },
  {
   "cell_type": "code",
   "execution_count": 29,
   "source": [
    "my_df=[]\n",
    "Converter(input_file='data\\example.json').json_to_gpx(\n",
    "                                                   lats_colname='column_name_of_latitudes',\n",
    "                                                   longs_colname='column_name_of_longitudes',\n",
    "                                                   output_file='your_output.gpx')"
   ],
   "outputs": [
    {
     "output_type": "error",
     "ename": "TypeError",
     "evalue": "json_to_gpx() got an unexpected keyword argument 'input_df'",
     "traceback": [
      "\u001b[0;31m---------------------------------------------------------------------------\u001b[0m",
      "\u001b[0;31mTypeError\u001b[0m                                 Traceback (most recent call last)",
      "\u001b[0;32m/var/folders/40/fyg8xwn57w35xfgkjf6frjkr0000gn/T/ipykernel_4787/3055260486.py\u001b[0m in \u001b[0;36m<module>\u001b[0;34m\u001b[0m\n\u001b[1;32m      3\u001b[0m                                                    \u001b[0mlats_colname\u001b[0m\u001b[0;34m=\u001b[0m\u001b[0;34m'column_name_of_latitudes'\u001b[0m\u001b[0;34m,\u001b[0m\u001b[0;34m\u001b[0m\u001b[0;34m\u001b[0m\u001b[0m\n\u001b[1;32m      4\u001b[0m                                                    \u001b[0mlongs_colname\u001b[0m\u001b[0;34m=\u001b[0m\u001b[0;34m'column_name_of_longitudes'\u001b[0m\u001b[0;34m,\u001b[0m\u001b[0;34m\u001b[0m\u001b[0;34m\u001b[0m\u001b[0m\n\u001b[0;32m----> 5\u001b[0;31m                                                    output_file='your_output.gpx')\n\u001b[0m",
      "\u001b[0;31mTypeError\u001b[0m: json_to_gpx() got an unexpected keyword argument 'input_df'"
     ]
    }
   ],
   "metadata": {}
  }
 ],
 "metadata": {
  "orig_nbformat": 4,
  "language_info": {
   "name": "python",
   "version": "3.7.12",
   "mimetype": "text/x-python",
   "codemirror_mode": {
    "name": "ipython",
    "version": 3
   },
   "pygments_lexer": "ipython3",
   "nbconvert_exporter": "python",
   "file_extension": ".py"
  },
  "kernelspec": {
   "name": "python3",
   "display_name": "Python 3.7.12 64-bit ('ironhack': conda)"
  },
  "interpreter": {
   "hash": "191fdcd26a5ca84f58a127ef5d594d6ffcc31ee3b3ca4138998a92c0047be3f6"
  }
 },
 "nbformat": 4,
 "nbformat_minor": 2
}